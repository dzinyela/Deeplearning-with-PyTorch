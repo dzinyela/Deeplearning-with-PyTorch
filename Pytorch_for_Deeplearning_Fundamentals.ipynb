{
  "nbformat": 4,
  "nbformat_minor": 0,
  "metadata": {
    "colab": {
      "provenance": [],
      "gpuType": "T4"
    },
    "kernelspec": {
      "name": "python3",
      "display_name": "Python 3"
    },
    "language_info": {
      "name": "python"
    },
    "accelerator": "GPU"
  },
  "cells": [
    {
      "cell_type": "markdown",
      "source": [
        "# Pytorch Fundamentals"
      ],
      "metadata": {
        "id": "NntdOG2lP1cc"
      }
    },
    {
      "cell_type": "code",
      "source": [
        "print(\"Hello I'm excited to learn Pytorch!\")"
      ],
      "metadata": {
        "id": "pFkAH8_FNXyP",
        "colab": {
          "base_uri": "https://localhost:8080/"
        },
        "outputId": "0cc4ea45-d287-42e3-cbe3-bf497c89a76d"
      },
      "execution_count": null,
      "outputs": [
        {
          "output_type": "stream",
          "name": "stdout",
          "text": [
            "Hello I'm excited to learn Pytorch!\n"
          ]
        }
      ]
    },
    {
      "cell_type": "code",
      "source": [
        "import torch\n",
        "print(torch.__version__)"
      ],
      "metadata": {
        "id": "deeB2GmiNX0M",
        "colab": {
          "base_uri": "https://localhost:8080/"
        },
        "outputId": "e871ed4c-e43b-420b-d58a-ddb78d8b42fc"
      },
      "execution_count": null,
      "outputs": [
        {
          "output_type": "stream",
          "name": "stdout",
          "text": [
            "2.2.1+cu121\n"
          ]
        }
      ]
    },
    {
      "cell_type": "markdown",
      "source": [
        "## Introduction to Tensors"
      ],
      "metadata": {
        "id": "pCCIEPxGTwIL"
      }
    },
    {
      "cell_type": "markdown",
      "source": [
        "### Creating Tensors"
      ],
      "metadata": {
        "id": "u4_Pu6nWUJ0r"
      }
    },
    {
      "cell_type": "code",
      "source": [
        "#Scalar\n",
        "scalar = torch.tensor(7)\n",
        "scalar"
      ],
      "metadata": {
        "id": "equ8BMiONYO1",
        "colab": {
          "base_uri": "https://localhost:8080/"
        },
        "outputId": "55ebbbf8-e2f5-4556-dc76-69b71bf1a6f7"
      },
      "execution_count": null,
      "outputs": [
        {
          "output_type": "execute_result",
          "data": {
            "text/plain": [
              "tensor(7)"
            ]
          },
          "metadata": {},
          "execution_count": 3
        }
      ]
    },
    {
      "cell_type": "code",
      "source": [
        "scalar.ndim"
      ],
      "metadata": {
        "id": "bN5kOQHhNYSU",
        "colab": {
          "base_uri": "https://localhost:8080/"
        },
        "outputId": "e49e9777-a5c9-47f8-d73b-82dd215ff16d"
      },
      "execution_count": null,
      "outputs": [
        {
          "output_type": "execute_result",
          "data": {
            "text/plain": [
              "0"
            ]
          },
          "metadata": {},
          "execution_count": 4
        }
      ]
    },
    {
      "cell_type": "code",
      "source": [
        "##Get tensor back as Python int\n",
        "scalar.item()\n"
      ],
      "metadata": {
        "id": "m36R3i0-NYVn",
        "colab": {
          "base_uri": "https://localhost:8080/"
        },
        "outputId": "2a89d117-0cf4-4fe8-b9f1-096d164adf9e"
      },
      "execution_count": null,
      "outputs": [
        {
          "output_type": "execute_result",
          "data": {
            "text/plain": [
              "7"
            ]
          },
          "metadata": {},
          "execution_count": 5
        }
      ]
    },
    {
      "cell_type": "code",
      "source": [
        "vector=torch.tensor([7,7])"
      ],
      "metadata": {
        "id": "U0Bdy87ZNYYw"
      },
      "execution_count": null,
      "outputs": []
    },
    {
      "cell_type": "code",
      "source": [
        "vector"
      ],
      "metadata": {
        "id": "KTsFTY-qNYcD",
        "colab": {
          "base_uri": "https://localhost:8080/"
        },
        "outputId": "4dfa7e35-6a27-4948-a5cb-d8feec19b843"
      },
      "execution_count": null,
      "outputs": [
        {
          "output_type": "execute_result",
          "data": {
            "text/plain": [
              "tensor([7, 7])"
            ]
          },
          "metadata": {},
          "execution_count": 7
        }
      ]
    },
    {
      "cell_type": "code",
      "source": [
        "vector.ndim"
      ],
      "metadata": {
        "id": "rsE7BmxsNYe4",
        "colab": {
          "base_uri": "https://localhost:8080/"
        },
        "outputId": "133a9861-87e3-4f4e-b6e3-0b7450618873"
      },
      "execution_count": null,
      "outputs": [
        {
          "output_type": "execute_result",
          "data": {
            "text/plain": [
              "1"
            ]
          },
          "metadata": {},
          "execution_count": 8
        }
      ]
    },
    {
      "cell_type": "code",
      "source": [
        "MATRIX=torch.tensor([[5,5],[2,2],[3,3]])"
      ],
      "metadata": {
        "id": "67DLojSYNYid"
      },
      "execution_count": null,
      "outputs": []
    },
    {
      "cell_type": "code",
      "source": [
        "MATRIX.ndim"
      ],
      "metadata": {
        "id": "GXdGZt16NYli",
        "colab": {
          "base_uri": "https://localhost:8080/"
        },
        "outputId": "5f777a3e-05cc-4535-97c7-9447be08fc65"
      },
      "execution_count": null,
      "outputs": [
        {
          "output_type": "execute_result",
          "data": {
            "text/plain": [
              "2"
            ]
          },
          "metadata": {},
          "execution_count": 10
        }
      ]
    },
    {
      "cell_type": "code",
      "source": [
        "MATRIX.shape"
      ],
      "metadata": {
        "id": "iqH2G0wkNYpB",
        "colab": {
          "base_uri": "https://localhost:8080/"
        },
        "outputId": "0f3f4133-9357-4f06-ffba-9221359ffa48"
      },
      "execution_count": null,
      "outputs": [
        {
          "output_type": "execute_result",
          "data": {
            "text/plain": [
              "torch.Size([3, 2])"
            ]
          },
          "metadata": {},
          "execution_count": 11
        }
      ]
    },
    {
      "cell_type": "code",
      "source": [
        "##Tensor\n",
        "TENSOR=torch.tensor([[[1,2,3]],[[3,4,3]],[[5,6,7]],[[7,8,9]]])\n",
        "TENSOR"
      ],
      "metadata": {
        "id": "rCmw6EF1NYs9",
        "colab": {
          "base_uri": "https://localhost:8080/"
        },
        "outputId": "f5ead5dc-0ae3-4bc1-c5c0-e170c6000bea"
      },
      "execution_count": null,
      "outputs": [
        {
          "output_type": "execute_result",
          "data": {
            "text/plain": [
              "tensor([[[1, 2, 3]],\n",
              "\n",
              "        [[3, 4, 3]],\n",
              "\n",
              "        [[5, 6, 7]],\n",
              "\n",
              "        [[7, 8, 9]]])"
            ]
          },
          "metadata": {},
          "execution_count": 12
        }
      ]
    },
    {
      "cell_type": "code",
      "source": [
        "TENSOR.ndim"
      ],
      "metadata": {
        "id": "MPWKBiIjNYwZ",
        "colab": {
          "base_uri": "https://localhost:8080/"
        },
        "outputId": "3d559d19-879b-4344-83fd-068f67bbe19f"
      },
      "execution_count": null,
      "outputs": [
        {
          "output_type": "execute_result",
          "data": {
            "text/plain": [
              "3"
            ]
          },
          "metadata": {},
          "execution_count": 13
        }
      ]
    },
    {
      "cell_type": "code",
      "source": [
        "TENSOR.shape"
      ],
      "metadata": {
        "id": "3RTvAHGwNY0J",
        "colab": {
          "base_uri": "https://localhost:8080/"
        },
        "outputId": "d3b09a75-9684-48e8-a635-31e0fb4243ec"
      },
      "execution_count": null,
      "outputs": [
        {
          "output_type": "execute_result",
          "data": {
            "text/plain": [
              "torch.Size([4, 1, 3])"
            ]
          },
          "metadata": {},
          "execution_count": 14
        }
      ]
    },
    {
      "cell_type": "code",
      "source": [
        "TENSOR[3]"
      ],
      "metadata": {
        "colab": {
          "base_uri": "https://localhost:8080/"
        },
        "id": "MJhwuNoCF8aa",
        "outputId": "9b0aa13c-8650-4f43-bdd7-4a7574b3bb4c"
      },
      "execution_count": null,
      "outputs": [
        {
          "output_type": "execute_result",
          "data": {
            "text/plain": [
              "tensor([[7, 8, 9]])"
            ]
          },
          "metadata": {},
          "execution_count": 15
        }
      ]
    },
    {
      "cell_type": "markdown",
      "source": [
        "## Random Tensors"
      ],
      "metadata": {
        "id": "zkxRI7heGWCw"
      }
    },
    {
      "cell_type": "code",
      "source": [
        "random_tensor=torch.rand(3,4)\n",
        "random_tensor"
      ],
      "metadata": {
        "colab": {
          "base_uri": "https://localhost:8080/"
        },
        "id": "Walg5_mTHBAw",
        "outputId": "7aaaa85f-d06e-4ab4-dd67-af95465a78ab"
      },
      "execution_count": null,
      "outputs": [
        {
          "output_type": "execute_result",
          "data": {
            "text/plain": [
              "tensor([[0.8943, 0.2244, 0.0383, 0.4118],\n",
              "        [0.8223, 0.0640, 0.1432, 0.8064],\n",
              "        [0.2320, 0.5822, 0.8530, 0.2143]])"
            ]
          },
          "metadata": {},
          "execution_count": 16
        }
      ]
    },
    {
      "cell_type": "code",
      "source": [
        "random_tensor.ndim"
      ],
      "metadata": {
        "colab": {
          "base_uri": "https://localhost:8080/"
        },
        "id": "UKHRafLkHBEH",
        "outputId": "2f8c48e7-4560-4c96-b7fb-8a4e36b58558"
      },
      "execution_count": null,
      "outputs": [
        {
          "output_type": "execute_result",
          "data": {
            "text/plain": [
              "2"
            ]
          },
          "metadata": {},
          "execution_count": 17
        }
      ]
    },
    {
      "cell_type": "code",
      "source": [
        "random_tensor[0]"
      ],
      "metadata": {
        "colab": {
          "base_uri": "https://localhost:8080/"
        },
        "outputId": "28ed1d1c-b4ad-4b3f-b02c-dca3f718c9b0",
        "id": "rOK55XuBKETm"
      },
      "execution_count": null,
      "outputs": [
        {
          "output_type": "execute_result",
          "data": {
            "text/plain": [
              "tensor([0.8943, 0.2244, 0.0383, 0.4118])"
            ]
          },
          "metadata": {},
          "execution_count": 18
        }
      ]
    },
    {
      "cell_type": "code",
      "source": [
        "random_image_size_tensor=torch.rand(size=(3,224,224)) ##height,width,color channels"
      ],
      "metadata": {
        "id": "I3FyNZvqHBKF"
      },
      "execution_count": null,
      "outputs": []
    },
    {
      "cell_type": "code",
      "source": [
        "random_image_size_tensor.shape, random_image_size_tensor.ndim"
      ],
      "metadata": {
        "colab": {
          "base_uri": "https://localhost:8080/"
        },
        "id": "5xURVZ26HBM1",
        "outputId": "d8c20978-0345-40e6-924b-9a9174a20ae4"
      },
      "execution_count": null,
      "outputs": [
        {
          "output_type": "execute_result",
          "data": {
            "text/plain": [
              "(torch.Size([3, 224, 224]), 3)"
            ]
          },
          "metadata": {},
          "execution_count": 20
        }
      ]
    },
    {
      "cell_type": "markdown",
      "source": [
        "**Zeros and Ones**\n"
      ],
      "metadata": {
        "id": "52XLf-z8HBPk"
      }
    },
    {
      "cell_type": "code",
      "source": [
        "zeros=torch.zeros(3,4)\n",
        "zeros"
      ],
      "metadata": {
        "colab": {
          "base_uri": "https://localhost:8080/"
        },
        "id": "mE-oldigHBS-",
        "outputId": "a71d75e7-a510-4e5a-fea5-75ff31018e9e"
      },
      "execution_count": null,
      "outputs": [
        {
          "output_type": "execute_result",
          "data": {
            "text/plain": [
              "tensor([[0., 0., 0., 0.],\n",
              "        [0., 0., 0., 0.],\n",
              "        [0., 0., 0., 0.]])"
            ]
          },
          "metadata": {},
          "execution_count": 21
        }
      ]
    },
    {
      "cell_type": "code",
      "source": [
        "zeros*random_tensor"
      ],
      "metadata": {
        "colab": {
          "base_uri": "https://localhost:8080/"
        },
        "id": "lE2A9IDDHBWt",
        "outputId": "e33494bf-d62c-465a-a557-97180a240556"
      },
      "execution_count": null,
      "outputs": [
        {
          "output_type": "execute_result",
          "data": {
            "text/plain": [
              "tensor([[0., 0., 0., 0.],\n",
              "        [0., 0., 0., 0.],\n",
              "        [0., 0., 0., 0.]])"
            ]
          },
          "metadata": {},
          "execution_count": 22
        }
      ]
    },
    {
      "cell_type": "code",
      "source": [
        "ones=torch.ones((3,4))\n",
        "ones"
      ],
      "metadata": {
        "colab": {
          "base_uri": "https://localhost:8080/"
        },
        "id": "rWufO_URHBZp",
        "outputId": "3fed0568-6b7c-4b87-e43d-2aae7e32a3e3"
      },
      "execution_count": null,
      "outputs": [
        {
          "output_type": "execute_result",
          "data": {
            "text/plain": [
              "tensor([[1., 1., 1., 1.],\n",
              "        [1., 1., 1., 1.],\n",
              "        [1., 1., 1., 1.]])"
            ]
          },
          "metadata": {},
          "execution_count": 23
        }
      ]
    },
    {
      "cell_type": "code",
      "source": [
        "ones.dtype"
      ],
      "metadata": {
        "colab": {
          "base_uri": "https://localhost:8080/"
        },
        "id": "QGYl9xLmHBdG",
        "outputId": "4b2ffb5d-5e25-4d48-8cae-af2f09e39cda"
      },
      "execution_count": null,
      "outputs": [
        {
          "output_type": "execute_result",
          "data": {
            "text/plain": [
              "torch.float32"
            ]
          },
          "metadata": {},
          "execution_count": 24
        }
      ]
    },
    {
      "cell_type": "markdown",
      "source": [
        "# **Creating a range of tensors and tensors-like**"
      ],
      "metadata": {
        "id": "7ZATWp9gk0CL"
      }
    },
    {
      "cell_type": "code",
      "source": [
        "one_to_ten= torch.arange(0,100,2)\n",
        "one_to_ten"
      ],
      "metadata": {
        "colab": {
          "base_uri": "https://localhost:8080/"
        },
        "id": "G2dnzvIzed9O",
        "outputId": "19a05e77-a12c-48e4-b09f-bd12962976aa"
      },
      "execution_count": null,
      "outputs": [
        {
          "output_type": "execute_result",
          "data": {
            "text/plain": [
              "tensor([ 0,  2,  4,  6,  8, 10, 12, 14, 16, 18, 20, 22, 24, 26, 28, 30, 32, 34,\n",
              "        36, 38, 40, 42, 44, 46, 48, 50, 52, 54, 56, 58, 60, 62, 64, 66, 68, 70,\n",
              "        72, 74, 76, 78, 80, 82, 84, 86, 88, 90, 92, 94, 96, 98])"
            ]
          },
          "metadata": {},
          "execution_count": 25
        }
      ]
    },
    {
      "cell_type": "code",
      "source": [
        "##creating tensors like\n",
        "ten_zeros=torch.zeros_like(one_to_ten)\n",
        "ten_zeros"
      ],
      "metadata": {
        "colab": {
          "base_uri": "https://localhost:8080/"
        },
        "id": "PIqLgPJjeeAy",
        "outputId": "9b7d1272-4784-46b1-9516-4e0202212b17"
      },
      "execution_count": null,
      "outputs": [
        {
          "output_type": "execute_result",
          "data": {
            "text/plain": [
              "tensor([0, 0, 0, 0, 0, 0, 0, 0, 0, 0, 0, 0, 0, 0, 0, 0, 0, 0, 0, 0, 0, 0, 0, 0,\n",
              "        0, 0, 0, 0, 0, 0, 0, 0, 0, 0, 0, 0, 0, 0, 0, 0, 0, 0, 0, 0, 0, 0, 0, 0,\n",
              "        0, 0])"
            ]
          },
          "metadata": {},
          "execution_count": 26
        }
      ]
    },
    {
      "cell_type": "markdown",
      "source": [
        "## **Dealing with Tensor Data Type**"
      ],
      "metadata": {
        "id": "waTaGy6Tsh1b"
      }
    },
    {
      "cell_type": "code",
      "source": [
        "# Float 32 tensor\n",
        "float_32_tensor = torch.tensor([3.0,6.0,9.0],\n",
        "                               dtype=torch.float32,\n",
        "                            device=None, ## What device is your tensor on\n",
        "                               requires_grad=False) ## whether or not to track gradients\n",
        "float_32_tensor"
      ],
      "metadata": {
        "colab": {
          "base_uri": "https://localhost:8080/"
        },
        "id": "Bh7T0hmFeeEO",
        "outputId": "918cf37f-8fc7-4b6d-b9f6-dceb95731e76"
      },
      "execution_count": null,
      "outputs": [
        {
          "output_type": "execute_result",
          "data": {
            "text/plain": [
              "tensor([3., 6., 9.])"
            ]
          },
          "metadata": {},
          "execution_count": 27
        }
      ]
    },
    {
      "cell_type": "code",
      "source": [
        "float_32_tensor.dtype"
      ],
      "metadata": {
        "colab": {
          "base_uri": "https://localhost:8080/"
        },
        "id": "NbfuiO2CeeHl",
        "outputId": "e0566a71-6d80-459f-b6d3-11895af9126b"
      },
      "execution_count": null,
      "outputs": [
        {
          "output_type": "execute_result",
          "data": {
            "text/plain": [
              "torch.float32"
            ]
          },
          "metadata": {},
          "execution_count": 28
        }
      ]
    },
    {
      "cell_type": "code",
      "source": [
        "float_16_tensor = float_32_tensor.type(torch.float16)\n",
        "float_16_tensor.dtype"
      ],
      "metadata": {
        "colab": {
          "base_uri": "https://localhost:8080/"
        },
        "id": "KKjiByY5eeK3",
        "outputId": "572776b7-cc5a-4bef-92a2-5a430cee9aa4"
      },
      "execution_count": null,
      "outputs": [
        {
          "output_type": "execute_result",
          "data": {
            "text/plain": [
              "torch.float16"
            ]
          },
          "metadata": {},
          "execution_count": 29
        }
      ]
    },
    {
      "cell_type": "code",
      "source": [
        "float_32_tensor*float_16_tensor"
      ],
      "metadata": {
        "colab": {
          "base_uri": "https://localhost:8080/"
        },
        "id": "lzzzvcjOeeNt",
        "outputId": "7967088f-29c6-49f2-97eb-2970fedc2325"
      },
      "execution_count": null,
      "outputs": [
        {
          "output_type": "execute_result",
          "data": {
            "text/plain": [
              "tensor([ 9., 36., 81.])"
            ]
          },
          "metadata": {},
          "execution_count": 30
        }
      ]
    },
    {
      "cell_type": "code",
      "source": [
        "int_32_tensor=torch.tensor([3,6,9], dtype=torch.int32)\n",
        "int_32_tensor"
      ],
      "metadata": {
        "colab": {
          "base_uri": "https://localhost:8080/"
        },
        "id": "TGwUfI_YeeQ3",
        "outputId": "615c7b1a-0e47-4b80-d213-87d1fb62c6cd"
      },
      "execution_count": null,
      "outputs": [
        {
          "output_type": "execute_result",
          "data": {
            "text/plain": [
              "tensor([3, 6, 9], dtype=torch.int32)"
            ]
          },
          "metadata": {},
          "execution_count": 31
        }
      ]
    },
    {
      "cell_type": "code",
      "source": [
        "int_32_tensor=float_32_tensor.type(torch.int32)\n",
        "int_32_tensor"
      ],
      "metadata": {
        "colab": {
          "base_uri": "https://localhost:8080/"
        },
        "id": "NiDMI8EXeeTr",
        "outputId": "d2f3eb34-4e7c-4ba0-efc6-8d22b415a21e"
      },
      "execution_count": null,
      "outputs": [
        {
          "output_type": "execute_result",
          "data": {
            "text/plain": [
              "tensor([3, 6, 9], dtype=torch.int32)"
            ]
          },
          "metadata": {},
          "execution_count": 32
        }
      ]
    },
    {
      "cell_type": "markdown",
      "source": [
        "## Getting Information from Tensors\n",
        "1. Tensors not right datatype - to do get datatype from a tensor, can use tensor.dtype\n",
        "2.Tensors not right shape - to get shape from a tensor, can use tensor.shape\n",
        "3. Tensors not on the right device - to get device from a tensor, can use tensor.device"
      ],
      "metadata": {
        "id": "cAqMUZkHxrYP"
      }
    },
    {
      "cell_type": "code",
      "source": [
        "## Create a tensor\n",
        "some_tensor = torch.rand(3,4)\n",
        "some_tensor"
      ],
      "metadata": {
        "colab": {
          "base_uri": "https://localhost:8080/"
        },
        "id": "OLyl_QrxHBfz",
        "outputId": "27f9895a-e6cb-4bc6-9421-3d4d30000c84"
      },
      "execution_count": null,
      "outputs": [
        {
          "output_type": "execute_result",
          "data": {
            "text/plain": [
              "tensor([[0.3785, 0.9330, 0.4071, 0.1726],\n",
              "        [0.3746, 0.6500, 0.0037, 0.2422],\n",
              "        [0.6495, 0.6978, 0.5999, 0.6919]])"
            ]
          },
          "metadata": {},
          "execution_count": 33
        }
      ]
    },
    {
      "cell_type": "code",
      "source": [
        "## Find out details about some tensor\n",
        "print(some_tensor)\n",
        "print(f\"Datatype of tensor: {some_tensor.dtype}\")\n",
        "print(f\"Shape of tensor: {some_tensor.size()}\")\n",
        "print(f\"Device tensor is on: {some_tensor.device}\")"
      ],
      "metadata": {
        "colab": {
          "base_uri": "https://localhost:8080/"
        },
        "id": "I83j6hL4HBjJ",
        "outputId": "87655bd1-0543-4457-ed7b-b2bcb8efd589"
      },
      "execution_count": null,
      "outputs": [
        {
          "output_type": "stream",
          "name": "stdout",
          "text": [
            "tensor([[0.3785, 0.9330, 0.4071, 0.1726],\n",
            "        [0.3746, 0.6500, 0.0037, 0.2422],\n",
            "        [0.6495, 0.6978, 0.5999, 0.6919]])\n",
            "Datatype of tensor: torch.float32\n",
            "Shape of tensor: torch.Size([3, 4])\n",
            "Device tensor is on: cpu\n"
          ]
        }
      ]
    },
    {
      "cell_type": "markdown",
      "source": [
        "### **Manipulating Tensors**\n",
        "\n",
        "\n",
        "\n",
        "*   Addition\n",
        "*   Substraction\n",
        "*   Multiplication (element-wise)\n",
        "*   Division\n",
        "*   Matrix multiplication\n",
        "\n",
        "\n",
        "\n",
        "\n",
        "\n"
      ],
      "metadata": {
        "id": "ag3tGv_2HBmd"
      }
    },
    {
      "cell_type": "code",
      "source": [
        "# Create tensor and add 10 to it\n",
        "tensor=torch.tensor([[5,6,8],[11,12,13]])\n",
        "tensor+10"
      ],
      "metadata": {
        "colab": {
          "base_uri": "https://localhost:8080/"
        },
        "id": "pzmxOcBXHBpK",
        "outputId": "d4b9c674-341b-4ccb-d2b3-346e56517dda"
      },
      "execution_count": null,
      "outputs": [
        {
          "output_type": "execute_result",
          "data": {
            "text/plain": [
              "tensor([[15, 16, 18],\n",
              "        [21, 22, 23]])"
            ]
          },
          "metadata": {},
          "execution_count": 35
        }
      ]
    },
    {
      "cell_type": "code",
      "source": [
        "# Multiply tensor by 10\n",
        "tensor*10"
      ],
      "metadata": {
        "colab": {
          "base_uri": "https://localhost:8080/"
        },
        "id": "vWgylfKtHBsa",
        "outputId": "43eece24-71b4-40f9-dbdc-c5c46eaed0c1"
      },
      "execution_count": null,
      "outputs": [
        {
          "output_type": "execute_result",
          "data": {
            "text/plain": [
              "tensor([[ 50,  60,  80],\n",
              "        [110, 120, 130]])"
            ]
          },
          "metadata": {},
          "execution_count": 36
        }
      ]
    },
    {
      "cell_type": "code",
      "source": [
        "## substract 10\n",
        "tensor -10\n"
      ],
      "metadata": {
        "colab": {
          "base_uri": "https://localhost:8080/"
        },
        "id": "uAzcTvuHHBw9",
        "outputId": "2ff779d9-4116-4285-b7cb-65c7effee28e"
      },
      "execution_count": null,
      "outputs": [
        {
          "output_type": "execute_result",
          "data": {
            "text/plain": [
              "tensor([[-5, -4, -2],\n",
              "        [ 1,  2,  3]])"
            ]
          },
          "metadata": {},
          "execution_count": 37
        }
      ]
    },
    {
      "cell_type": "code",
      "source": [
        "## Try out PyTorch in-built functions\n",
        "torch.mul(tensor,10)"
      ],
      "metadata": {
        "colab": {
          "base_uri": "https://localhost:8080/"
        },
        "id": "XIYIlY7vHBzs",
        "outputId": "d5fb2e84-2c47-4712-c307-831e28f1f24f"
      },
      "execution_count": null,
      "outputs": [
        {
          "output_type": "execute_result",
          "data": {
            "text/plain": [
              "tensor([[ 50,  60,  80],\n",
              "        [110, 120, 130]])"
            ]
          },
          "metadata": {},
          "execution_count": 38
        }
      ]
    },
    {
      "cell_type": "markdown",
      "source": [
        "## **Matrix Multiplication**\n",
        "\n",
        "\n",
        "\n",
        "1.   Element wise multiplication\n",
        "2.   Dot product\n",
        "\n"
      ],
      "metadata": {
        "id": "-c6jmiDvHB2I"
      }
    },
    {
      "cell_type": "code",
      "source": [
        "# Element wise multiplication\n",
        "print(tensor, \"*\", tensor)\n",
        "print(tensor*tensor)"
      ],
      "metadata": {
        "colab": {
          "base_uri": "https://localhost:8080/"
        },
        "id": "eAW-px4SHB4t",
        "outputId": "3d933823-3974-4947-ad46-a89b309582ae"
      },
      "execution_count": null,
      "outputs": [
        {
          "output_type": "stream",
          "name": "stdout",
          "text": [
            "tensor([[ 5,  6,  8],\n",
            "        [11, 12, 13]]) * tensor([[ 5,  6,  8],\n",
            "        [11, 12, 13]])\n",
            "tensor([[ 25,  36,  64],\n",
            "        [121, 144, 169]])\n"
          ]
        }
      ]
    },
    {
      "cell_type": "code",
      "source": [
        "tensor=torch.tensor([1,2,3])"
      ],
      "metadata": {
        "id": "jYaOMWlCOzYm"
      },
      "execution_count": null,
      "outputs": []
    },
    {
      "cell_type": "code",
      "source": [],
      "metadata": {
        "id": "pohwLtI-57aZ"
      },
      "execution_count": null,
      "outputs": []
    },
    {
      "cell_type": "code",
      "source": [
        "# Create tensor and add 10 to it\n",
        "tensor=torch.tensor([[5,6,8],[11,12,13]])\n"
      ],
      "metadata": {
        "id": "gIePp4nP6Bb4"
      },
      "execution_count": null,
      "outputs": []
    },
    {
      "cell_type": "code",
      "source": [],
      "metadata": {
        "id": "pVYqxJDy6Fea"
      },
      "execution_count": null,
      "outputs": []
    },
    {
      "cell_type": "code",
      "source": [
        "torch.matmul(tensor,tensor.T)"
      ],
      "metadata": {
        "colab": {
          "base_uri": "https://localhost:8080/"
        },
        "id": "TVUkAZkwAfHK",
        "outputId": "46421588-cb2d-4fcc-a842-e4a9f226457d"
      },
      "execution_count": null,
      "outputs": [
        {
          "output_type": "execute_result",
          "data": {
            "text/plain": [
              "tensor([[125, 231],\n",
              "        [231, 434]])"
            ]
          },
          "metadata": {},
          "execution_count": 42
        }
      ]
    },
    {
      "cell_type": "code",
      "source": [
        "%%time\n",
        "value=0\n",
        "for i in range(len(tensor)):\n",
        "  value+=(tensor[i]*tensor[i])\n",
        "print(value)\n"
      ],
      "metadata": {
        "colab": {
          "base_uri": "https://localhost:8080/"
        },
        "id": "Wl7Tpi3ZAfOg",
        "outputId": "b2703e49-2049-48b0-b54b-583af835abe3"
      },
      "execution_count": null,
      "outputs": [
        {
          "output_type": "stream",
          "name": "stdout",
          "text": [
            "tensor([146, 180, 233])\n",
            "CPU times: user 1.85 ms, sys: 0 ns, total: 1.85 ms\n",
            "Wall time: 3.58 ms\n"
          ]
        }
      ]
    },
    {
      "cell_type": "code",
      "source": [
        "%%time\n",
        "torch.matmul(tensor,tensor)"
      ],
      "metadata": {
        "colab": {
          "base_uri": "https://localhost:8080/",
          "height": 124
        },
        "id": "YJ3CEfK_AfSp",
        "outputId": "b19f0da3-784d-4305-e0e4-e3717fa470b4"
      },
      "execution_count": null,
      "outputs": [
        {
          "output_type": "error",
          "ename": "RuntimeError",
          "evalue": "mat1 and mat2 shapes cannot be multiplied (2x3 and 2x3)",
          "traceback": [
            "\u001b[0;31m---------------------------------------------------------------------------\u001b[0m",
            "\u001b[0;31mRuntimeError\u001b[0m                              Traceback (most recent call last)",
            "\u001b[0;32m<timed eval>\u001b[0m in \u001b[0;36m<module>\u001b[0;34m\u001b[0m\n",
            "\u001b[0;31mRuntimeError\u001b[0m: mat1 and mat2 shapes cannot be multiplied (2x3 and 2x3)"
          ]
        }
      ]
    },
    {
      "cell_type": "markdown",
      "source": [
        "## **Dealing with shape errors in matrix multiplication**"
      ],
      "metadata": {
        "id": "aWubj61rAfa2"
      }
    },
    {
      "cell_type": "code",
      "source": [
        "# Shapes for matrix multiplication\n",
        "tensor_A = torch.tensor([[1,2],\n",
        "                         [3,4],\n",
        "                         [5,6]])\n",
        "\n",
        "tensor_B = tensor_A+6\n",
        "print(tensor_A)\n",
        "print(tensor_B)"
      ],
      "metadata": {
        "colab": {
          "base_uri": "https://localhost:8080/"
        },
        "id": "yuxKVriWRFVf",
        "outputId": "8c83a8c3-70d8-4235-ab36-0b9e7ad9f31a"
      },
      "execution_count": null,
      "outputs": [
        {
          "output_type": "stream",
          "name": "stdout",
          "text": [
            "tensor([[1, 2],\n",
            "        [3, 4],\n",
            "        [5, 6]])\n",
            "tensor([[ 7,  8],\n",
            "        [ 9, 10],\n",
            "        [11, 12]])\n"
          ]
        }
      ]
    },
    {
      "cell_type": "code",
      "source": [
        "torch.matmul(tensor_A,tensor_B.T)"
      ],
      "metadata": {
        "colab": {
          "base_uri": "https://localhost:8080/"
        },
        "id": "uZP9UOGsRFZc",
        "outputId": "f642c131-f1f0-4b54-f836-de4d777efe5a"
      },
      "execution_count": null,
      "outputs": [
        {
          "output_type": "execute_result",
          "data": {
            "text/plain": [
              "tensor([[ 23,  29,  35],\n",
              "        [ 53,  67,  81],\n",
              "        [ 83, 105, 127]])"
            ]
          },
          "metadata": {},
          "execution_count": 46
        }
      ]
    },
    {
      "cell_type": "markdown",
      "source": [
        "## **Min, Max and Sum**"
      ],
      "metadata": {
        "id": "CxuR2dSoRFdZ"
      }
    },
    {
      "cell_type": "code",
      "source": [
        "## create a tensor\n",
        "x=torch.arange(1,100,10)\n"
      ],
      "metadata": {
        "id": "S17fbDfXHB8X"
      },
      "execution_count": null,
      "outputs": []
    },
    {
      "cell_type": "code",
      "source": [
        "#3 Find the position in tensor that has the minimum values with argmin() -> returns index position of target tesor where the minimum value occurs\n",
        "x.argmin(0)"
      ],
      "metadata": {
        "colab": {
          "base_uri": "https://localhost:8080/"
        },
        "id": "1huSaEWP7JmR",
        "outputId": "b7423225-3ad2-4492-aeaf-3460233d1fe7"
      },
      "execution_count": null,
      "outputs": [
        {
          "output_type": "execute_result",
          "data": {
            "text/plain": [
              "tensor(0)"
            ]
          },
          "metadata": {},
          "execution_count": 48
        }
      ]
    },
    {
      "cell_type": "code",
      "source": [
        "x.argmax()"
      ],
      "metadata": {
        "colab": {
          "base_uri": "https://localhost:8080/"
        },
        "id": "MlT2gQ297zgz",
        "outputId": "3eaed6a2-c20f-40ba-9997-b5cc30128a97"
      },
      "execution_count": null,
      "outputs": [
        {
          "output_type": "execute_result",
          "data": {
            "text/plain": [
              "tensor(9)"
            ]
          },
          "metadata": {},
          "execution_count": 49
        }
      ]
    },
    {
      "cell_type": "code",
      "source": [
        "## find min\n",
        "torch.min(x)"
      ],
      "metadata": {
        "colab": {
          "base_uri": "https://localhost:8080/"
        },
        "id": "W2J3EV8DWYU6",
        "outputId": "d0c14335-7ee2-46f7-e8f5-123d62826364"
      },
      "execution_count": null,
      "outputs": [
        {
          "output_type": "execute_result",
          "data": {
            "text/plain": [
              "tensor(1)"
            ]
          },
          "metadata": {},
          "execution_count": 50
        }
      ]
    },
    {
      "cell_type": "code",
      "source": [
        "## find max\n",
        "torch.max(x)"
      ],
      "metadata": {
        "colab": {
          "base_uri": "https://localhost:8080/"
        },
        "id": "kNYVk0UDWYYP",
        "outputId": "2eb8d686-6b85-4e90-94c5-f0d3bcde645d"
      },
      "execution_count": null,
      "outputs": [
        {
          "output_type": "execute_result",
          "data": {
            "text/plain": [
              "tensor(91)"
            ]
          },
          "metadata": {},
          "execution_count": 51
        }
      ]
    },
    {
      "cell_type": "code",
      "source": [
        "## find sum\n",
        "torch.sum(x), sum(x)"
      ],
      "metadata": {
        "colab": {
          "base_uri": "https://localhost:8080/"
        },
        "id": "EOzPanKwWYbv",
        "outputId": "dc170e00-d27b-4a3f-8c61-0b6a00b10a97"
      },
      "execution_count": null,
      "outputs": [
        {
          "output_type": "execute_result",
          "data": {
            "text/plain": [
              "(tensor(460), tensor(460))"
            ]
          },
          "metadata": {},
          "execution_count": 52
        }
      ]
    },
    {
      "cell_type": "code",
      "source": [
        "## find mean\n",
        "torch.mean(x.type(torch.float32)), x.type(torch.float32).mean()"
      ],
      "metadata": {
        "colab": {
          "base_uri": "https://localhost:8080/"
        },
        "id": "J-a-E_eVWYfP",
        "outputId": "9d19a4ef-e34a-404b-eb00-81b6e2717a84"
      },
      "execution_count": null,
      "outputs": [
        {
          "output_type": "execute_result",
          "data": {
            "text/plain": [
              "(tensor(46.), tensor(46.))"
            ]
          },
          "metadata": {},
          "execution_count": 53
        }
      ]
    },
    {
      "cell_type": "markdown",
      "source": [
        "### Reshaping,Stacking, Squeezing and Unsqueezing tensors\n",
        "##Reshaping, Viewing and Stacking Tensors"
      ],
      "metadata": {
        "id": "PLQPjDas8GRe"
      }
    },
    {
      "cell_type": "code",
      "source": [
        "#   LET'S CREATE A TENSOR\n",
        "x=torch.arange(1.0,10.)\n",
        "x,x.shape,x.ndim"
      ],
      "metadata": {
        "id": "z7YIB2LtWYir",
        "colab": {
          "base_uri": "https://localhost:8080/"
        },
        "outputId": "3b92f80f-51a3-4ffa-8f87-77a6b8f0aa15"
      },
      "execution_count": null,
      "outputs": [
        {
          "output_type": "execute_result",
          "data": {
            "text/plain": [
              "(tensor([1., 2., 3., 4., 5., 6., 7., 8., 9.]), torch.Size([9]), 1)"
            ]
          },
          "metadata": {},
          "execution_count": 54
        }
      ]
    },
    {
      "cell_type": "code",
      "source": [
        "## Add an extra dimension\n",
        "x_reshaped = x.reshape(1,9)\n",
        "x_reshaped, x_reshaped.shape,x_reshaped.ndim"
      ],
      "metadata": {
        "id": "zxoOSHNTWYli",
        "colab": {
          "base_uri": "https://localhost:8080/"
        },
        "outputId": "e06e18e3-40d8-4957-ea6f-26cb24b80729"
      },
      "execution_count": null,
      "outputs": [
        {
          "output_type": "execute_result",
          "data": {
            "text/plain": [
              "(tensor([[1., 2., 3., 4., 5., 6., 7., 8., 9.]]), torch.Size([1, 9]), 2)"
            ]
          },
          "metadata": {},
          "execution_count": 55
        }
      ]
    },
    {
      "cell_type": "code",
      "source": [
        "#Change the view\n",
        "##changing z changes x (because a view of a tensor shares the same momory as the original input)\n",
        "z= x.view(1,9)\n",
        "z,z.shape\n"
      ],
      "metadata": {
        "id": "sUin8-6SWYph",
        "colab": {
          "base_uri": "https://localhost:8080/"
        },
        "outputId": "83211f20-c5e3-46f6-f784-768200c8309e"
      },
      "execution_count": null,
      "outputs": [
        {
          "output_type": "execute_result",
          "data": {
            "text/plain": [
              "(tensor([[1., 2., 3., 4., 5., 6., 7., 8., 9.]]), torch.Size([1, 9]))"
            ]
          },
          "metadata": {},
          "execution_count": 56
        }
      ]
    },
    {
      "cell_type": "code",
      "source": [
        "z[:,0]=5\n",
        "x,z,z.ndim,x.ndim"
      ],
      "metadata": {
        "id": "vAhdAEbVWYvA",
        "colab": {
          "base_uri": "https://localhost:8080/"
        },
        "outputId": "1118b03d-2c16-44d7-f306-e8689cdb3a28"
      },
      "execution_count": null,
      "outputs": [
        {
          "output_type": "execute_result",
          "data": {
            "text/plain": [
              "(tensor([5., 2., 3., 4., 5., 6., 7., 8., 9.]),\n",
              " tensor([[5., 2., 3., 4., 5., 6., 7., 8., 9.]]),\n",
              " 2,\n",
              " 1)"
            ]
          },
          "metadata": {},
          "execution_count": 57
        }
      ]
    },
    {
      "cell_type": "code",
      "source": [
        "##Stack tensors on top of each other\n",
        "x_stacked =torch.stack([z,x_reshaped],dim=1)\n",
        "x_stacked\n"
      ],
      "metadata": {
        "id": "dWFShYxVHB-Y",
        "colab": {
          "base_uri": "https://localhost:8080/"
        },
        "outputId": "687df134-ba62-4bbf-a092-88c678670c99"
      },
      "execution_count": null,
      "outputs": [
        {
          "output_type": "execute_result",
          "data": {
            "text/plain": [
              "tensor([[[5., 2., 3., 4., 5., 6., 7., 8., 9.],\n",
              "         [5., 2., 3., 4., 5., 6., 7., 8., 9.]]])"
            ]
          },
          "metadata": {},
          "execution_count": 58
        }
      ]
    },
    {
      "cell_type": "code",
      "source": [
        "## torch.squeeze() - remove all single dimensions from a target tensor\n",
        "x_reshaped"
      ],
      "metadata": {
        "id": "4QUknBwZHCAq",
        "colab": {
          "base_uri": "https://localhost:8080/"
        },
        "outputId": "c3885342-279e-4fbf-8422-47422fdd108e"
      },
      "execution_count": null,
      "outputs": [
        {
          "output_type": "execute_result",
          "data": {
            "text/plain": [
              "tensor([[5., 2., 3., 4., 5., 6., 7., 8., 9.]])"
            ]
          },
          "metadata": {},
          "execution_count": 59
        }
      ]
    },
    {
      "cell_type": "code",
      "source": [
        "x_reshaped.ndim"
      ],
      "metadata": {
        "colab": {
          "base_uri": "https://localhost:8080/"
        },
        "id": "moSoCjLwXXxT",
        "outputId": "62fabb59-bce7-487c-bbb9-ef6b639f90ac"
      },
      "execution_count": null,
      "outputs": [
        {
          "output_type": "execute_result",
          "data": {
            "text/plain": [
              "2"
            ]
          },
          "metadata": {},
          "execution_count": 60
        }
      ]
    },
    {
      "cell_type": "code",
      "source": [
        "x_reshaped.squeeze()"
      ],
      "metadata": {
        "colab": {
          "base_uri": "https://localhost:8080/"
        },
        "id": "YsLspuZoXX0_",
        "outputId": "6ffa25f0-fc4d-4117-bc84-d6aa54f55cfc"
      },
      "execution_count": null,
      "outputs": [
        {
          "output_type": "execute_result",
          "data": {
            "text/plain": [
              "tensor([5., 2., 3., 4., 5., 6., 7., 8., 9.])"
            ]
          },
          "metadata": {},
          "execution_count": 61
        }
      ]
    },
    {
      "cell_type": "code",
      "source": [
        "x_reshaped.squeeze().ndim"
      ],
      "metadata": {
        "colab": {
          "base_uri": "https://localhost:8080/"
        },
        "id": "GUCDHtizXX8J",
        "outputId": "897143ad-4411-47e6-83a5-1039f3fc4c0c"
      },
      "execution_count": null,
      "outputs": [
        {
          "output_type": "execute_result",
          "data": {
            "text/plain": [
              "1"
            ]
          },
          "metadata": {},
          "execution_count": 62
        }
      ]
    },
    {
      "cell_type": "code",
      "source": [
        "print(f\"Previous tensor: {x_reshaped}\")\n",
        "print(f\"Previous shape: {x_reshaped.shape}\")\n",
        "\n",
        "##Remove extra dimensions from x_reshaped\n",
        "x_squeezed=x_reshaped.squeeze()\n",
        "print(f\"\\nNew tensor: {x_squeezed}\")\n",
        "print(f\"New shape: {x_squeezed.shape}\")"
      ],
      "metadata": {
        "colab": {
          "base_uri": "https://localhost:8080/"
        },
        "id": "eeK8xUDTXX_K",
        "outputId": "9a9e53b4-01ef-4bc3-c621-fb2a1ef61538"
      },
      "execution_count": null,
      "outputs": [
        {
          "output_type": "stream",
          "name": "stdout",
          "text": [
            "Previous tensor: tensor([[5., 2., 3., 4., 5., 6., 7., 8., 9.]])\n",
            "Previous shape: torch.Size([1, 9])\n",
            "\n",
            "New tensor: tensor([5., 2., 3., 4., 5., 6., 7., 8., 9.])\n",
            "New shape: torch.Size([9])\n"
          ]
        }
      ]
    },
    {
      "cell_type": "code",
      "source": [
        "##torch.unsqueeze() - adds a single dimension to a target tensor at a specific dim\n",
        "print(f\"Previous target: {x_squeezed}\")\n",
        "print(f\"Previoys shape: {x_squeezed.shape}\")\n",
        "\n",
        "\n",
        "##Add an extra dimension with unsqueeze\n",
        "x_unsqueezed = x_squeezed.unsqueeze(dim=0)\n",
        "print(f\"\\nNew tensor: {x_unsqueezed}\")\n",
        "print(f\"New Shape: {x_unsqueezed.shape}\")\n"
      ],
      "metadata": {
        "colab": {
          "base_uri": "https://localhost:8080/"
        },
        "id": "RdoXYiytXYBz",
        "outputId": "f61ca39f-a6b4-4d8f-8911-019146a00dba"
      },
      "execution_count": null,
      "outputs": [
        {
          "output_type": "stream",
          "name": "stdout",
          "text": [
            "Previous target: tensor([5., 2., 3., 4., 5., 6., 7., 8., 9.])\n",
            "Previoys shape: torch.Size([9])\n",
            "\n",
            "New tensor: tensor([[5., 2., 3., 4., 5., 6., 7., 8., 9.]])\n",
            "New Shape: torch.Size([1, 9])\n"
          ]
        }
      ]
    },
    {
      "cell_type": "code",
      "source": [
        "##torch.permute -reaarranges the dimensions of a target tensor in specified order\n",
        "x_original = torch.rand(size=(224,224,3)) #height,width,colour_channels\n",
        "\n",
        "##permute the original tensor to rearrange the axis (or dim) order\n",
        "x_permuted =x_original.permute(2,0,1) ##shifts axis 0->1,1->2,2->0\n",
        "\n",
        "x_original,x_permuted"
      ],
      "metadata": {
        "colab": {
          "base_uri": "https://localhost:8080/"
        },
        "id": "7u1dWlEbXYE6",
        "outputId": "3b6c6c4b-a699-4e09-a6fb-f91c9a27aa85"
      },
      "execution_count": null,
      "outputs": [
        {
          "output_type": "execute_result",
          "data": {
            "text/plain": [
              "(tensor([[[0.4962, 0.2460, 0.2416],\n",
              "          [0.1668, 0.1756, 0.4932],\n",
              "          [0.4025, 0.0364, 0.6766],\n",
              "          ...,\n",
              "          [0.6165, 0.3115, 0.9693],\n",
              "          [0.9598, 0.9572, 0.0949],\n",
              "          [0.6870, 0.6809, 0.3987]],\n",
              " \n",
              "         [[0.0454, 0.6167, 0.2943],\n",
              "          [0.9086, 0.9989, 0.3399],\n",
              "          [0.3170, 0.0623, 0.8815],\n",
              "          ...,\n",
              "          [0.2173, 0.6284, 0.0954],\n",
              "          [0.9029, 0.7777, 0.4977],\n",
              "          [0.9865, 0.7920, 0.6374]],\n",
              " \n",
              "         [[0.1308, 0.1603, 0.6073],\n",
              "          [0.5413, 0.3978, 0.4490],\n",
              "          [0.2659, 0.7437, 0.9748],\n",
              "          ...,\n",
              "          [0.5466, 0.4807, 0.0467],\n",
              "          [0.3834, 0.7811, 0.8732],\n",
              "          [0.6185, 0.3295, 0.4995]],\n",
              " \n",
              "         ...,\n",
              " \n",
              "         [[0.6250, 0.3965, 0.5631],\n",
              "          [0.5122, 0.8210, 0.5471],\n",
              "          [0.0592, 0.3594, 0.1825],\n",
              "          ...,\n",
              "          [0.6956, 0.4090, 0.8753],\n",
              "          [0.0644, 0.4599, 0.7161],\n",
              "          [0.6428, 0.1865, 0.8724]],\n",
              " \n",
              "         [[0.1206, 0.0065, 0.9028],\n",
              "          [0.1628, 0.0279, 0.4810],\n",
              "          [0.9977, 0.2303, 0.5233],\n",
              "          ...,\n",
              "          [0.8521, 0.0129, 0.7506],\n",
              "          [0.3939, 0.1701, 0.2433],\n",
              "          [0.4368, 0.5686, 0.1077]],\n",
              " \n",
              "         [[0.5675, 0.1616, 0.2035],\n",
              "          [0.8442, 0.2777, 0.2858],\n",
              "          [0.0997, 0.2363, 0.2459],\n",
              "          ...,\n",
              "          [0.7042, 0.9621, 0.1835],\n",
              "          [0.8630, 0.7363, 0.1056],\n",
              "          [0.8645, 0.4581, 0.6078]]]),\n",
              " tensor([[[0.4962, 0.1668, 0.4025,  ..., 0.6165, 0.9598, 0.6870],\n",
              "          [0.0454, 0.9086, 0.3170,  ..., 0.2173, 0.9029, 0.9865],\n",
              "          [0.1308, 0.5413, 0.2659,  ..., 0.5466, 0.3834, 0.6185],\n",
              "          ...,\n",
              "          [0.6250, 0.5122, 0.0592,  ..., 0.6956, 0.0644, 0.6428],\n",
              "          [0.1206, 0.1628, 0.9977,  ..., 0.8521, 0.3939, 0.4368],\n",
              "          [0.5675, 0.8442, 0.0997,  ..., 0.7042, 0.8630, 0.8645]],\n",
              " \n",
              "         [[0.2460, 0.1756, 0.0364,  ..., 0.3115, 0.9572, 0.6809],\n",
              "          [0.6167, 0.9989, 0.0623,  ..., 0.6284, 0.7777, 0.7920],\n",
              "          [0.1603, 0.3978, 0.7437,  ..., 0.4807, 0.7811, 0.3295],\n",
              "          ...,\n",
              "          [0.3965, 0.8210, 0.3594,  ..., 0.4090, 0.4599, 0.1865],\n",
              "          [0.0065, 0.0279, 0.2303,  ..., 0.0129, 0.1701, 0.5686],\n",
              "          [0.1616, 0.2777, 0.2363,  ..., 0.9621, 0.7363, 0.4581]],\n",
              " \n",
              "         [[0.2416, 0.4932, 0.6766,  ..., 0.9693, 0.0949, 0.3987],\n",
              "          [0.2943, 0.3399, 0.8815,  ..., 0.0954, 0.4977, 0.6374],\n",
              "          [0.6073, 0.4490, 0.9748,  ..., 0.0467, 0.8732, 0.4995],\n",
              "          ...,\n",
              "          [0.5631, 0.5471, 0.1825,  ..., 0.8753, 0.7161, 0.8724],\n",
              "          [0.9028, 0.4810, 0.5233,  ..., 0.7506, 0.2433, 0.1077],\n",
              "          [0.2035, 0.2858, 0.2459,  ..., 0.1835, 0.1056, 0.6078]]]))"
            ]
          },
          "metadata": {},
          "execution_count": 65
        }
      ]
    },
    {
      "cell_type": "code",
      "source": [
        "tryy=torch.rand(3,3,3)\n",
        "print(tryy)\n",
        "tryy1=tryy.permute(2,0,1)\n",
        "print(tryy1)"
      ],
      "metadata": {
        "colab": {
          "base_uri": "https://localhost:8080/"
        },
        "id": "RUUvJT41XYHy",
        "outputId": "15de0e3b-9ba5-435c-abc7-4d4a798baf31"
      },
      "execution_count": null,
      "outputs": [
        {
          "output_type": "stream",
          "name": "stdout",
          "text": [
            "tensor([[[0.1578, 0.0833, 0.9852],\n",
            "         [0.4513, 0.1335, 0.8880],\n",
            "         [0.7084, 0.0669, 0.5376]],\n",
            "\n",
            "        [[0.9856, 0.8560, 0.3685],\n",
            "         [0.1036, 0.1279, 0.2575],\n",
            "         [0.2131, 0.2295, 0.0562]],\n",
            "\n",
            "        [[0.5330, 0.7886, 0.4882],\n",
            "         [0.0485, 0.5520, 0.2909],\n",
            "         [0.7134, 0.9236, 0.1009]]])\n",
            "tensor([[[0.1578, 0.4513, 0.7084],\n",
            "         [0.9856, 0.1036, 0.2131],\n",
            "         [0.5330, 0.0485, 0.7134]],\n",
            "\n",
            "        [[0.0833, 0.1335, 0.0669],\n",
            "         [0.8560, 0.1279, 0.2295],\n",
            "         [0.7886, 0.5520, 0.9236]],\n",
            "\n",
            "        [[0.9852, 0.8880, 0.5376],\n",
            "         [0.3685, 0.2575, 0.0562],\n",
            "         [0.4882, 0.2909, 0.1009]]])\n"
          ]
        }
      ]
    },
    {
      "cell_type": "code",
      "source": [
        "tryy1[2]"
      ],
      "metadata": {
        "colab": {
          "base_uri": "https://localhost:8080/"
        },
        "id": "jM-C5YBFXYKz",
        "outputId": "0cc7f566-727a-4593-b4aa-3c0635d9493b"
      },
      "execution_count": null,
      "outputs": [
        {
          "output_type": "execute_result",
          "data": {
            "text/plain": [
              "tensor([[0.9852, 0.8880, 0.5376],\n",
              "        [0.3685, 0.2575, 0.0562],\n",
              "        [0.4882, 0.2909, 0.1009]])"
            ]
          },
          "metadata": {},
          "execution_count": 67
        }
      ]
    },
    {
      "cell_type": "code",
      "source": [
        "tryy[0]"
      ],
      "metadata": {
        "colab": {
          "base_uri": "https://localhost:8080/"
        },
        "id": "BVlXKvWuXYN7",
        "outputId": "901932bb-7ed0-41d0-a6d3-80297d1b86a3"
      },
      "execution_count": null,
      "outputs": [
        {
          "output_type": "execute_result",
          "data": {
            "text/plain": [
              "tensor([[0.1578, 0.0833, 0.9852],\n",
              "        [0.4513, 0.1335, 0.8880],\n",
              "        [0.7084, 0.0669, 0.5376]])"
            ]
          },
          "metadata": {},
          "execution_count": 68
        }
      ]
    },
    {
      "cell_type": "markdown",
      "source": [
        "## Indexing (selecting from tensors)"
      ],
      "metadata": {
        "id": "Kl2-I6dFzqlw"
      }
    },
    {
      "cell_type": "code",
      "source": [
        "x=torch.arange(1,10).reshape(1,3,3)\n",
        "x,x.shape\n"
      ],
      "metadata": {
        "colab": {
          "base_uri": "https://localhost:8080/"
        },
        "id": "B3_SQNzQy5kQ",
        "outputId": "c3236c1d-5f49-4464-c901-2554e9bffe8d"
      },
      "execution_count": null,
      "outputs": [
        {
          "output_type": "execute_result",
          "data": {
            "text/plain": [
              "(tensor([[[1, 2, 3],\n",
              "          [4, 5, 6],\n",
              "          [7, 8, 9]]]),\n",
              " torch.Size([1, 3, 3]))"
            ]
          },
          "metadata": {},
          "execution_count": 69
        }
      ]
    },
    {
      "cell_type": "code",
      "source": [
        "##Let's index on our new tensor\n",
        "x[0]"
      ],
      "metadata": {
        "colab": {
          "base_uri": "https://localhost:8080/"
        },
        "id": "uIT4__B0y5rQ",
        "outputId": "a793b594-b118-4f9a-edfe-121822895a7c"
      },
      "execution_count": null,
      "outputs": [
        {
          "output_type": "execute_result",
          "data": {
            "text/plain": [
              "tensor([[1, 2, 3],\n",
              "        [4, 5, 6],\n",
              "        [7, 8, 9]])"
            ]
          },
          "metadata": {},
          "execution_count": 70
        }
      ]
    },
    {
      "cell_type": "code",
      "source": [
        "##Let's index on the middle bracket (dim=1)\n",
        "x[0][0]"
      ],
      "metadata": {
        "colab": {
          "base_uri": "https://localhost:8080/"
        },
        "id": "2OaxjVbvy52m",
        "outputId": "24ac102e-571f-473a-b120-c88e0b4ccfae"
      },
      "execution_count": null,
      "outputs": [
        {
          "output_type": "execute_result",
          "data": {
            "text/plain": [
              "tensor([1, 2, 3])"
            ]
          },
          "metadata": {},
          "execution_count": 71
        }
      ]
    },
    {
      "cell_type": "code",
      "source": [
        "##Let's index on the most inner bracket (last dimension)\n",
        "x[0][0][2]"
      ],
      "metadata": {
        "colab": {
          "base_uri": "https://localhost:8080/"
        },
        "id": "yutwVb_ay56h",
        "outputId": "0556a9ca-b461-4aa8-c451-93f1f4bfccba"
      },
      "execution_count": null,
      "outputs": [
        {
          "output_type": "execute_result",
          "data": {
            "text/plain": [
              "tensor(3)"
            ]
          },
          "metadata": {},
          "execution_count": 72
        }
      ]
    },
    {
      "cell_type": "code",
      "source": [
        "##You can also use \":\" to select \"all\" of a target dimension\n",
        "x[:,0]"
      ],
      "metadata": {
        "colab": {
          "base_uri": "https://localhost:8080/"
        },
        "id": "IxXnURFjy5-V",
        "outputId": "80ca6202-0873-4f02-e510-7a972edc4c85"
      },
      "execution_count": null,
      "outputs": [
        {
          "output_type": "execute_result",
          "data": {
            "text/plain": [
              "tensor([[1, 2, 3]])"
            ]
          },
          "metadata": {},
          "execution_count": 73
        }
      ]
    },
    {
      "cell_type": "code",
      "source": [
        "## Get all values of 0th and 1st dimensions but only index 1 of 2nd dimension\n",
        "x[:,:,1]"
      ],
      "metadata": {
        "colab": {
          "base_uri": "https://localhost:8080/"
        },
        "id": "huSZFDELy6At",
        "outputId": "b3cebd24-e536-4790-a230-785ba06c6bad"
      },
      "execution_count": null,
      "outputs": [
        {
          "output_type": "execute_result",
          "data": {
            "text/plain": [
              "tensor([[2, 5, 8]])"
            ]
          },
          "metadata": {},
          "execution_count": 74
        }
      ]
    },
    {
      "cell_type": "code",
      "source": [
        "##Get all values of the 0 dimension but only the 1 index value of the 1st and 2 dimension\n",
        "x[:,1,1]"
      ],
      "metadata": {
        "colab": {
          "base_uri": "https://localhost:8080/"
        },
        "id": "XMcUDZoBy6Dl",
        "outputId": "39bef207-76f2-442e-fd9f-324e6a64f73e"
      },
      "execution_count": null,
      "outputs": [
        {
          "output_type": "execute_result",
          "data": {
            "text/plain": [
              "tensor([5])"
            ]
          },
          "metadata": {},
          "execution_count": 75
        }
      ]
    },
    {
      "cell_type": "code",
      "source": [
        "## Get index 0 of 0th and 1st dimension and all values of 2nd dimension\n",
        "x[0,0,:]"
      ],
      "metadata": {
        "colab": {
          "base_uri": "https://localhost:8080/"
        },
        "id": "T7j2eyuTy6Gr",
        "outputId": "8c84e0ce-9556-47a0-bbd7-33e2004d5fe3"
      },
      "execution_count": null,
      "outputs": [
        {
          "output_type": "execute_result",
          "data": {
            "text/plain": [
              "tensor([1, 2, 3])"
            ]
          },
          "metadata": {},
          "execution_count": 76
        }
      ]
    },
    {
      "cell_type": "code",
      "source": [
        "##Index on x to return 9\n",
        "print(x[0,2,2])\n",
        "\n",
        "## index on x to return 3,6,9\n",
        "print(x[0,:,2])"
      ],
      "metadata": {
        "colab": {
          "base_uri": "https://localhost:8080/"
        },
        "id": "QubrT4eIy6K4",
        "outputId": "70ffc9e3-ee31-4ff6-c65b-69ca4d804ee9"
      },
      "execution_count": null,
      "outputs": [
        {
          "output_type": "stream",
          "name": "stdout",
          "text": [
            "tensor(9)\n",
            "tensor([3, 6, 9])\n"
          ]
        }
      ]
    },
    {
      "cell_type": "markdown",
      "source": [
        "#Pytorch, Tensors and Numpy\n",
        "\n",
        "##### **Data in Numpy, want in PyTorch tensor -> torch.from_numpy(ndarray)**\n",
        "##### ***Pytorch tensor -> Numpy -> torch.Tensor.numpy() ***"
      ],
      "metadata": {
        "id": "pDpjyuCWIwUH"
      }
    },
    {
      "cell_type": "code",
      "source": [
        "##Numpy array to tensor\n",
        "import torch\n",
        "import numpy as np\n",
        "\n",
        "array= np.arange(1.0,8.0)\n",
        "tensor=torch.from_numpy(array)\n",
        "array,tensor\n"
      ],
      "metadata": {
        "colab": {
          "base_uri": "https://localhost:8080/"
        },
        "id": "D3aCTCDJy6OR",
        "outputId": "70daaa9a-69dc-40e0-9f9d-a7f8e2c08629"
      },
      "execution_count": null,
      "outputs": [
        {
          "output_type": "execute_result",
          "data": {
            "text/plain": [
              "(array([1., 2., 3., 4., 5., 6., 7.]),\n",
              " tensor([1., 2., 3., 4., 5., 6., 7.], dtype=torch.float64))"
            ]
          },
          "metadata": {},
          "execution_count": 78
        }
      ]
    },
    {
      "cell_type": "code",
      "source": [
        "## Tensor to Numpy array\n",
        "tensor = torch.ones(7)\n",
        "tensor_to_numpy=tensor.numpy()\n",
        "tensor,tensor_to_numpy"
      ],
      "metadata": {
        "colab": {
          "base_uri": "https://localhost:8080/"
        },
        "id": "KXixjKppIgT7",
        "outputId": "96e2d5c9-1581-4fc5-bd21-c1ed5400b58f"
      },
      "execution_count": null,
      "outputs": [
        {
          "output_type": "execute_result",
          "data": {
            "text/plain": [
              "(tensor([1., 1., 1., 1., 1., 1., 1.]),\n",
              " array([1., 1., 1., 1., 1., 1., 1.], dtype=float32))"
            ]
          },
          "metadata": {},
          "execution_count": 79
        }
      ]
    },
    {
      "cell_type": "markdown",
      "source": [
        "## Reproducibility (Trying to take random out of random)"
      ],
      "metadata": {
        "id": "uaqD-SQRRRny"
      }
    },
    {
      "cell_type": "code",
      "source": [
        "##create two random tensors\n",
        "random_tensor_A = torch.rand(3,4)\n",
        "random_tensor_B = torch.rand(3,4)\n",
        "print(random_tensor_A)\n",
        "print(random_tensor_B)\n",
        "\n",
        "print(random_tensor_A==random_tensor_B)"
      ],
      "metadata": {
        "colab": {
          "base_uri": "https://localhost:8080/"
        },
        "id": "IBuR0ZshRPcZ",
        "outputId": "98482c7d-4718-427a-9ece-dc73699b00e3"
      },
      "execution_count": null,
      "outputs": [
        {
          "output_type": "stream",
          "name": "stdout",
          "text": [
            "tensor([[0.3703, 0.8571, 0.6646, 0.9934],\n",
            "        [0.4375, 0.9219, 0.4108, 0.3010],\n",
            "        [0.1916, 0.7156, 0.9316, 0.8493]])\n",
            "tensor([[0.9774, 0.8670, 0.9848, 0.0130],\n",
            "        [0.8806, 0.2046, 0.3600, 0.6634],\n",
            "        [0.9207, 0.7845, 0.0283, 0.0141]])\n",
            "tensor([[False, False, False, False],\n",
            "        [False, False, False, False],\n",
            "        [False, False, False, False]])\n"
          ]
        }
      ]
    },
    {
      "cell_type": "code",
      "source": [
        "##set random seeds\n",
        "RANDOM_SEED=42\n",
        "torch.manual_seed(RANDOM_SEED)\n",
        "random_tensor_A = torch.rand(3,4)\n",
        "\n",
        "\n",
        "torch.manual_seed(RANDOM_SEED)\n",
        "random_tensor_B = torch.rand(3,4)\n",
        "print(random_tensor_A)\n",
        "print(random_tensor_B)\n",
        "\n",
        "print(random_tensor_A==random_tensor_B)"
      ],
      "metadata": {
        "colab": {
          "base_uri": "https://localhost:8080/"
        },
        "id": "ul8mVXmDIgW_",
        "outputId": "fa1f83e2-20ca-4f36-989c-2ad800d31870"
      },
      "execution_count": null,
      "outputs": [
        {
          "output_type": "stream",
          "name": "stdout",
          "text": [
            "tensor([[0.8823, 0.9150, 0.3829, 0.9593],\n",
            "        [0.3904, 0.6009, 0.2566, 0.7936],\n",
            "        [0.9408, 0.1332, 0.9346, 0.5936]])\n",
            "tensor([[0.8823, 0.9150, 0.3829, 0.9593],\n",
            "        [0.3904, 0.6009, 0.2566, 0.7936],\n",
            "        [0.9408, 0.1332, 0.9346, 0.5936]])\n",
            "tensor([[True, True, True, True],\n",
            "        [True, True, True, True],\n",
            "        [True, True, True, True]])\n"
          ]
        }
      ]
    },
    {
      "cell_type": "code",
      "source": [
        "!nvidia-smi"
      ],
      "metadata": {
        "colab": {
          "base_uri": "https://localhost:8080/"
        },
        "id": "9M3tVds1QGU-",
        "outputId": "91714944-db73-4dfe-8827-8d1413cceb57"
      },
      "execution_count": null,
      "outputs": [
        {
          "output_type": "stream",
          "name": "stdout",
          "text": [
            "Sat Apr  6 21:50:43 2024       \n",
            "+---------------------------------------------------------------------------------------+\n",
            "| NVIDIA-SMI 535.104.05             Driver Version: 535.104.05   CUDA Version: 12.2     |\n",
            "|-----------------------------------------+----------------------+----------------------+\n",
            "| GPU  Name                 Persistence-M | Bus-Id        Disp.A | Volatile Uncorr. ECC |\n",
            "| Fan  Temp   Perf          Pwr:Usage/Cap |         Memory-Usage | GPU-Util  Compute M. |\n",
            "|                                         |                      |               MIG M. |\n",
            "|=========================================+======================+======================|\n",
            "|   0  Tesla T4                       Off | 00000000:00:04.0 Off |                    0 |\n",
            "| N/A   42C    P8              12W /  70W |      0MiB / 15360MiB |      0%      Default |\n",
            "|                                         |                      |                  N/A |\n",
            "+-----------------------------------------+----------------------+----------------------+\n",
            "                                                                                         \n",
            "+---------------------------------------------------------------------------------------+\n",
            "| Processes:                                                                            |\n",
            "|  GPU   GI   CI        PID   Type   Process name                            GPU Memory |\n",
            "|        ID   ID                                                             Usage      |\n",
            "|=======================================================================================|\n",
            "|  No running processes found                                                           |\n",
            "+---------------------------------------------------------------------------------------+\n"
          ]
        }
      ]
    },
    {
      "cell_type": "code",
      "source": [
        "torch.cuda.is_available()"
      ],
      "metadata": {
        "colab": {
          "base_uri": "https://localhost:8080/"
        },
        "id": "5n0XNrSgQGYz",
        "outputId": "d5ad7d20-3591-416c-d21e-183d07b5ab6b"
      },
      "execution_count": null,
      "outputs": [
        {
          "output_type": "execute_result",
          "data": {
            "text/plain": [
              "True"
            ]
          },
          "metadata": {},
          "execution_count": 83
        }
      ]
    },
    {
      "cell_type": "code",
      "source": [
        "##setup device agnostic code\n"
      ],
      "metadata": {
        "id": "AA-22zz_QGbj"
      },
      "execution_count": null,
      "outputs": []
    },
    {
      "cell_type": "code",
      "source": [
        "torch.cuda.device_count()"
      ],
      "metadata": {
        "colab": {
          "base_uri": "https://localhost:8080/"
        },
        "outputId": "e2880343-caea-4389-f937-224881740ada",
        "id": "MSVuGOtqaCb1"
      },
      "execution_count": null,
      "outputs": [
        {
          "output_type": "execute_result",
          "data": {
            "text/plain": [
              "1"
            ]
          },
          "metadata": {},
          "execution_count": 85
        }
      ]
    },
    {
      "cell_type": "code",
      "source": [],
      "metadata": {
        "id": "OFXBnEXcQGiL"
      },
      "execution_count": null,
      "outputs": []
    },
    {
      "cell_type": "code",
      "source": [],
      "metadata": {
        "id": "FX5hK25fQGlb"
      },
      "execution_count": null,
      "outputs": []
    },
    {
      "cell_type": "code",
      "source": [],
      "metadata": {
        "id": "kpEIUHZwIgaB"
      },
      "execution_count": null,
      "outputs": []
    },
    {
      "cell_type": "code",
      "source": [],
      "metadata": {
        "id": "LX_xI42tIggy"
      },
      "execution_count": null,
      "outputs": []
    },
    {
      "cell_type": "code",
      "source": [],
      "metadata": {
        "id": "RpLnORFRIglL"
      },
      "execution_count": null,
      "outputs": []
    },
    {
      "cell_type": "code",
      "source": [],
      "metadata": {
        "id": "4NzKwyoZIgt-"
      },
      "execution_count": null,
      "outputs": []
    },
    {
      "cell_type": "code",
      "source": [],
      "metadata": {
        "id": "PBAQKdMLIgw6"
      },
      "execution_count": null,
      "outputs": []
    },
    {
      "cell_type": "code",
      "source": [],
      "metadata": {
        "id": "zZWuQjV5Igzm"
      },
      "execution_count": null,
      "outputs": []
    },
    {
      "cell_type": "code",
      "source": [],
      "metadata": {
        "id": "70yh0QNPIg3L"
      },
      "execution_count": null,
      "outputs": []
    },
    {
      "cell_type": "code",
      "source": [],
      "metadata": {
        "id": "IBQR2C3RIg6j"
      },
      "execution_count": null,
      "outputs": []
    },
    {
      "cell_type": "code",
      "source": [],
      "metadata": {
        "id": "FkDER_E7Ig8u"
      },
      "execution_count": null,
      "outputs": []
    },
    {
      "cell_type": "code",
      "source": [],
      "metadata": {
        "id": "J5QhiJoNIg-x"
      },
      "execution_count": null,
      "outputs": []
    },
    {
      "cell_type": "code",
      "source": [],
      "metadata": {
        "id": "2tzrFuAzIhAd"
      },
      "execution_count": null,
      "outputs": []
    },
    {
      "cell_type": "code",
      "source": [],
      "metadata": {
        "id": "jovDu3olIhCK"
      },
      "execution_count": null,
      "outputs": []
    },
    {
      "cell_type": "code",
      "source": [],
      "metadata": {
        "id": "G5eOpPYlIhDx"
      },
      "execution_count": null,
      "outputs": []
    },
    {
      "cell_type": "code",
      "source": [],
      "metadata": {
        "id": "oW98Vk3pIhFu"
      },
      "execution_count": null,
      "outputs": []
    },
    {
      "cell_type": "code",
      "source": [],
      "metadata": {
        "id": "iG3FzqosIhHe"
      },
      "execution_count": null,
      "outputs": []
    },
    {
      "cell_type": "code",
      "source": [],
      "metadata": {
        "id": "CB7pv0HLIhKg"
      },
      "execution_count": null,
      "outputs": []
    },
    {
      "cell_type": "code",
      "source": [],
      "metadata": {
        "id": "_Djkr1gmIhPP"
      },
      "execution_count": null,
      "outputs": []
    },
    {
      "cell_type": "code",
      "source": [],
      "metadata": {
        "id": "na-zxJ4NIhRo"
      },
      "execution_count": null,
      "outputs": []
    },
    {
      "cell_type": "code",
      "source": [],
      "metadata": {
        "id": "cNuENS-wIhT_"
      },
      "execution_count": null,
      "outputs": []
    },
    {
      "cell_type": "code",
      "source": [],
      "metadata": {
        "id": "D3SBEYG1IhWT"
      },
      "execution_count": null,
      "outputs": []
    },
    {
      "cell_type": "code",
      "source": [],
      "metadata": {
        "id": "yUjOiucLIhZI"
      },
      "execution_count": null,
      "outputs": []
    },
    {
      "cell_type": "code",
      "source": [],
      "metadata": {
        "id": "vJtacwOWIhdr"
      },
      "execution_count": null,
      "outputs": []
    },
    {
      "cell_type": "code",
      "source": [],
      "metadata": {
        "id": "3lUtVQ66y6Rw"
      },
      "execution_count": null,
      "outputs": []
    },
    {
      "cell_type": "code",
      "source": [],
      "metadata": {
        "id": "fmquuBp1y6Vz"
      },
      "execution_count": null,
      "outputs": []
    }
  ]
}